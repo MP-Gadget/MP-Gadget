{
 "cells": [
  {
   "cell_type": "code",
   "execution_count": 2,
   "metadata": {},
   "outputs": [],
   "source": [
    "\"\"\"This module compares two snapshots to ensure they are the same.\n",
    "The main purpose is for development, to make sure that optimizations do not change\n",
    "the code output.\"\"\"\n",
    "\n",
    "import bigfile\n",
    "import numpy as np\n",
    "\n",
    "def compare_fields(newsnap, oldsnap, ptype=1, field=\"Position\"):\n",
    "    \"\"\"Compare two fields in a snapshot (by default DM positions):\n",
    "       newsnap and oldsnap are compared.\n",
    "       the 'field' array is compared for particle type 'ptype'.\n",
    "       Returns the absolute value of the differences.\"\"\"\n",
    "    pp_old = bigfile.BigFile(oldsnap)\n",
    "    box = pp_old[\"Header\"].attrs[\"BoxSize\"]\n",
    "    otime = pp_old[\"Header\"].attrs[\"Time\"]\n",
    "    pp_new = bigfile.BigFile(newsnap)\n",
    "    ntime = pp_new[\"Header\"].attrs[\"Time\"]\n",
    "    nbox = pp_new[\"Header\"].attrs[\"BoxSize\"]\n",
    "    assert np.abs(otime - ntime) < 1e-8\n",
    "    assert np.abs(box - nbox) < 1e-8\n",
    "    sptype = str(ptype)\n",
    "    id_new = pp_new[sptype+\"/ID\"][:]\n",
    "    id_old = pp_old[sptype+\"/ID\"][:]\n",
    "    pos_new = pp_new[sptype+\"/\"+field][:]\n",
    "    pos_old = pp_old[sptype+\"/\"+field][:]\n",
    "    p_sort_new = pos_new[np.argsort(id_new)]\n",
    "    p_sort_old = pos_old[np.argsort(id_old)]\n",
    "    diff = p_sort_new - p_sort_old\n",
    "    #Positions wrap, so the differences\n",
    "    if field == \"Position\":\n",
    "        ii = np.where(diff > box/2)\n",
    "        diff[ii] = diff[ii] - box\n",
    "        ii = np.where(diff < -box/2)\n",
    "        diff[ii] = diff[ii] + box\n",
    "    return np.abs(diff)"
   ]
  },
  {
   "cell_type": "code",
   "execution_count": 5,
   "metadata": {},
   "outputs": [
    {
     "data": {
      "text/plain": [
       "array([[0., 0., 0.],\n",
       "       [0., 0., 0.],\n",
       "       [0., 0., 0.],\n",
       "       ...,\n",
       "       [0., 0., 0.],\n",
       "       [0., 0., 0.],\n",
       "       [0., 0., 0.]])"
      ]
     },
     "execution_count": 5,
     "metadata": {},
     "output_type": "execute_result"
    }
   ],
   "source": [
    "compare_fields(\"/home/maamari/Documents/GitHub/MP-Gadget/gadget/output/PART_000/\", \"/home/maamari/Documents/GitHub/MP-Gadget/gadget/output/PART_000/\")"
   ]
  },
  {
   "cell_type": "code",
   "execution_count": null,
   "metadata": {},
   "outputs": [],
   "source": []
  }
 ],
 "metadata": {
  "kernelspec": {
   "display_name": "Python 3",
   "language": "python",
   "name": "python3"
  },
  "language_info": {
   "codemirror_mode": {
    "name": "ipython",
    "version": 2
   },
   "file_extension": ".py",
   "mimetype": "text/x-python",
   "name": "python",
   "nbconvert_exporter": "python",
   "pygments_lexer": "ipython2",
   "version": "2.7.15+"
  }
 },
 "nbformat": 4,
 "nbformat_minor": 2
}
